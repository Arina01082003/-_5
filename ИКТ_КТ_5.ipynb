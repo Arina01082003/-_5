{
  "nbformat": 4,
  "nbformat_minor": 0,
  "metadata": {
    "colab": {
      "provenance": []
    },
    "kernelspec": {
      "name": "python3",
      "display_name": "Python 3"
    },
    "language_info": {
      "name": "python"
    }
  },
  "cells": [
    {
      "cell_type": "code",
      "execution_count": 1,
      "metadata": {
        "id": "3IM5BmE3_A5U"
      },
      "outputs": [],
      "source": [
        "def function(numders, divider):\n",
        "    filtered_numbers = [num for num in numbers if num % divider == 0]\n",
        "    return filtered_numbers"
      ]
    },
    {
      "cell_type": "code",
      "source": [
        "numbers = [1, 2, 3, 4, 5, 6, 7, 8, 9, 10]\n",
        "divider = 2\n",
        "result = function(numbers, divider)\n",
        "print(result)"
      ],
      "metadata": {
        "colab": {
          "base_uri": "https://localhost:8080/"
        },
        "id": "k6dKM5UV_f0a",
        "outputId": "00f06c39-b9fe-4cfe-e02b-d7de1375e9b9"
      },
      "execution_count": 2,
      "outputs": [
        {
          "output_type": "stream",
          "name": "stdout",
          "text": [
            "[2, 4, 6, 8, 10]\n"
          ]
        }
      ]
    },
    {
      "cell_type": "code",
      "source": [
        "def function(input_list):\n",
        "    result_list = []\n",
        "    for index, value in enumerate(input_list):\n",
        "        if (index + 1) % 5 == 0:\n",
        "            result_list.append(value * 2)\n",
        "        else:\n",
        "            if (index + 1) % 3 != 0:\n",
        "                result_list.append(value)\n",
        "    return result_list"
      ],
      "metadata": {
        "id": "QgAnetinABUd"
      },
      "execution_count": 3,
      "outputs": []
    },
    {
      "cell_type": "code",
      "source": [
        "numbers = [1, 2, 3, 4, 5, 6, 7, 8, 9, 10, 11, 12, 13, 14, 15]\n",
        "ismenen_list = function(numbers)\n",
        "print(ismenen_list)"
      ],
      "metadata": {
        "colab": {
          "base_uri": "https://localhost:8080/"
        },
        "id": "pETtGMmrAEXN",
        "outputId": "da0e95a8-ed43-4325-c99e-596dc09d7fa4"
      },
      "execution_count": 4,
      "outputs": [
        {
          "output_type": "stream",
          "name": "stdout",
          "text": [
            "[1, 2, 4, 10, 7, 8, 20, 11, 13, 14, 30]\n"
          ]
        }
      ]
    },
    {
      "cell_type": "code",
      "source": [
        "def function(spisok, povtorenie):\n",
        "    count = 0\n",
        "    for element in spisok:\n",
        "        if element == povtorenie:\n",
        "            count += 1\n",
        "    return count"
      ],
      "metadata": {
        "id": "VQ4TQtorAHXN"
      },
      "execution_count": 5,
      "outputs": []
    },
    {
      "cell_type": "code",
      "source": [
        "numbers = [1, 2, 2, 2, 4, 5, 2, 6]\n",
        "target = 2\n",
        "result = function(numbers, target)\n",
        "print(\"Элемент \" + str(target) + \" встречается в списке \" + str(result) + \" раз.\")"
      ],
      "metadata": {
        "colab": {
          "base_uri": "https://localhost:8080/"
        },
        "id": "xNJzUGddAMYa",
        "outputId": "4209b2fa-1906-4e32-e6a8-c1370e90d639"
      },
      "execution_count": 6,
      "outputs": [
        {
          "output_type": "stream",
          "name": "stdout",
          "text": [
            "Элемент 2 встречается в списке 4 раз.\n"
          ]
        }
      ]
    },
    {
      "cell_type": "code",
      "source": [
        "def function(spisok):\n",
        "    reversed_list = []\n",
        "\n",
        "    for i in range(0, len(spisok), 3):\n",
        "        group = spisok[i : i + 3]\n",
        "        reversed_group = group[::-1]\n",
        "        reversed_list.extend(reversed_group)\n",
        "    return reversed_list"
      ],
      "metadata": {
        "id": "Itn0dwLtASfK"
      },
      "execution_count": 7,
      "outputs": []
    },
    {
      "cell_type": "code",
      "source": [
        "numbers = [1, 2, 3, 4, 5, 6]\n",
        "result = function(numbers)\n",
        "print(result)"
      ],
      "metadata": {
        "colab": {
          "base_uri": "https://localhost:8080/"
        },
        "id": "Yc_A9h4FAU2X",
        "outputId": "a01aeb97-acb0-449b-a188-b9f2e54fb172"
      },
      "execution_count": 8,
      "outputs": [
        {
          "output_type": "stream",
          "name": "stdout",
          "text": [
            "[3, 2, 1, 6, 5, 4]\n"
          ]
        }
      ]
    },
    {
      "cell_type": "code",
      "source": [
        "def function(list1, list2):\n",
        "    if len(list1) != len(list2):\n",
        "        raise ValueError(\"Списки должны быть одинаковой длины\")\n",
        "    raznicha = [a - b for a, b in zip(list1, list2)]\n",
        "    return raznicha"
      ],
      "metadata": {
        "id": "_fhT8ZqdAYnM"
      },
      "execution_count": 9,
      "outputs": []
    },
    {
      "cell_type": "code",
      "source": [
        "list1 = [1, 2, 3, 4]\n",
        "list2 = [2, 3, 4, 2]\n",
        "result = function(list1, list2)\n",
        "print(result)"
      ],
      "metadata": {
        "colab": {
          "base_uri": "https://localhost:8080/"
        },
        "id": "8yb5VahUAc6w",
        "outputId": "dfe5550e-8636-4713-d158-d61ff6cfa0f9"
      },
      "execution_count": 10,
      "outputs": [
        {
          "output_type": "stream",
          "name": "stdout",
          "text": [
            "[-1, -1, -1, 2]\n"
          ]
        }
      ]
    },
    {
      "cell_type": "code",
      "source": [
        "list1 = [1, 2, 3, 4]\n",
        "list2 = [2, 3, 4, 2]\n",
        "result = function(list1, list2)\n",
        "print(result)"
      ],
      "metadata": {
        "colab": {
          "base_uri": "https://localhost:8080/"
        },
        "id": "YHmYgt15AhRk",
        "outputId": "f83fd758-f2d5-45b7-b1dc-694a55808ff2"
      },
      "execution_count": 12,
      "outputs": [
        {
          "output_type": "stream",
          "name": "stdout",
          "text": [
            "[-1, -1, -1, 2]\n"
          ]
        }
      ]
    },
    {
      "cell_type": "code",
      "source": [
        "def function(L):\n",
        "    char_count = {}\n",
        "    for char in L:\n",
        "        char_count[char] = char_count.get(char, 0) + 1\n",
        "    kolichestvo = list(char_count.values())\n",
        "    return kolichestvo"
      ],
      "metadata": {
        "id": "ZTIbnONLBe2n"
      },
      "execution_count": 13,
      "outputs": []
    },
    {
      "cell_type": "code",
      "source": [
        "bukva = ['a', 'b', 'a', 'c', 'b', 'a', 'd']\n",
        "result = function(bukva)\n",
        "print(result)"
      ],
      "metadata": {
        "colab": {
          "base_uri": "https://localhost:8080/"
        },
        "id": "ppXwmJJqBiaw",
        "outputId": "2b1ccc26-dfb1-4307-dda4-a98a63be8158"
      },
      "execution_count": 14,
      "outputs": [
        {
          "output_type": "stream",
          "name": "stdout",
          "text": [
            "[3, 2, 1, 1]\n"
          ]
        }
      ]
    },
    {
      "cell_type": "code",
      "source": [
        "def function(spisok):\n",
        "    filtr = [num for num in spisok if num > 0]\n",
        "    sorterovano = sorted(filtr)\n",
        "    return sorterovano"
      ],
      "metadata": {
        "id": "6FC4oDBOBvHV"
      },
      "execution_count": 15,
      "outputs": []
    },
    {
      "cell_type": "code",
      "source": [
        "numbers = [1, 2, 0, -1, 6]\n",
        "result = function(numbers)\n",
        "print(result)"
      ],
      "metadata": {
        "colab": {
          "base_uri": "https://localhost:8080/"
        },
        "id": "ICO64Ea2CIJb",
        "outputId": "471c3bb6-3d95-4984-c6c9-73acb0961547"
      },
      "execution_count": 16,
      "outputs": [
        {
          "output_type": "stream",
          "name": "stdout",
          "text": [
            "[1, 2, 6]\n"
          ]
        }
      ]
    },
    {
      "cell_type": "code",
      "source": [
        "def function(N, spisok):\n",
        "    mnogestvo1 = set(range(1, N + 1))\n",
        "    mnogestvo2 = set(spisok)\n",
        "    raznicha = list(mnogestvo1 - mnogestvo2)\n",
        "    raznicha.sort()\n",
        "    return raznicha"
      ],
      "metadata": {
        "id": "swZra9KbCNlF"
      },
      "execution_count": 17,
      "outputs": []
    },
    {
      "cell_type": "code",
      "source": [
        "N_value = 10\n",
        "spisok = [1, 2, 3, 6, 7]\n",
        "result = function(N_value, spisok)\n",
        "print(result)"
      ],
      "metadata": {
        "colab": {
          "base_uri": "https://localhost:8080/"
        },
        "id": "jhVayfmLCQ9V",
        "outputId": "47f449fe-1689-4314-f2a6-152edfa1be5b"
      },
      "execution_count": 18,
      "outputs": [
        {
          "output_type": "stream",
          "name": "stdout",
          "text": [
            "[4, 5, 8, 9, 10]\n"
          ]
        }
      ]
    }
  ]
}